{
 "cells": [
  {
   "cell_type": "code",
   "execution_count": 1,
   "id": "c8916b32",
   "metadata": {},
   "outputs": [],
   "source": [
    "import re"
   ]
  },
  {
   "cell_type": "code",
   "execution_count": 2,
   "id": "167c1c6c",
   "metadata": {},
   "outputs": [
    {
     "data": {
      "text/plain": [
       "['9012184525', '120']"
      ]
     },
     "execution_count": 2,
     "metadata": {},
     "output_type": "execute_result"
    }
   ],
   "source": [
    "text =' phone no 9012184525 . payment amount 120$'\n",
    "pattern= '\\d+'\n",
    "match = re.findall(pattern, text)\n",
    "match"
   ]
  },
  {
   "cell_type": "code",
   "execution_count": 3,
   "id": "e32cc186",
   "metadata": {},
   "outputs": [
    {
     "data": {
      "text/plain": [
       "['9012184525']"
      ]
     },
     "execution_count": 3,
     "metadata": {},
     "output_type": "execute_result"
    }
   ],
   "source": [
    "text =' phone no 9012184525 . payment amount 120$'\n",
    "pattern= '\\d{10}'\n",
    "match = re.findall(pattern, text)\n",
    "match"
   ]
  },
  {
   "cell_type": "code",
   "execution_count": 8,
   "id": "03a0c431",
   "metadata": {},
   "outputs": [
    {
     "data": {
      "text/plain": [
       "['(901)-218-4525', '9719242136']"
      ]
     },
     "execution_count": 8,
     "metadata": {},
     "output_type": "execute_result"
    }
   ],
   "source": [
    "text =' phone no (901)-218-4525 .And Parents phone no 9719242136'\n",
    "pattern = '\\(\\d{3}\\)-\\d{3}-\\d{4}|\\d{10}'\n",
    "match = re.findall(pattern, text)\n",
    "match"
   ]
  },
  {
   "cell_type": "code",
   "execution_count": 14,
   "id": "2aba8afd",
   "metadata": {},
   "outputs": [
    {
     "data": {
      "text/plain": [
       "<re.Match object; span=(10, 42), match='9012184525 . payment amount 120$'>"
      ]
     },
     "execution_count": 14,
     "metadata": {},
     "output_type": "execute_result"
    }
   ],
   "source": [
    "text =' phone no 9012184525 . payment amount 120$'\n",
    "pattern= '(\\d{10})\\D+(\\d+)\\$'\n",
    "match = re.search(pattern, text)\n",
    "match"
   ]
  },
  {
   "cell_type": "code",
   "execution_count": 18,
   "id": "ab76e8aa",
   "metadata": {},
   "outputs": [],
   "source": [
    "phone_number,bill_amount = match.groups()"
   ]
  },
  {
   "cell_type": "code",
   "execution_count": 19,
   "id": "3dc8a07e",
   "metadata": {},
   "outputs": [
    {
     "data": {
      "text/plain": [
       "'9012184525'"
      ]
     },
     "execution_count": 19,
     "metadata": {},
     "output_type": "execute_result"
    }
   ],
   "source": [
    "phone_number"
   ]
  },
  {
   "cell_type": "code",
   "execution_count": 20,
   "id": "1483d147",
   "metadata": {},
   "outputs": [
    {
     "data": {
      "text/plain": [
       "'120'"
      ]
     },
     "execution_count": 20,
     "metadata": {},
     "output_type": "execute_result"
    }
   ],
   "source": [
    "bill_amount"
   ]
  },
  {
   "cell_type": "code",
   "execution_count": null,
   "id": "98a7dfae",
   "metadata": {},
   "outputs": [],
   "source": []
  }
 ],
 "metadata": {
  "kernelspec": {
   "display_name": "Python 3 (ipykernel)",
   "language": "python",
   "name": "python3"
  },
  "language_info": {
   "codemirror_mode": {
    "name": "ipython",
    "version": 3
   },
   "file_extension": ".py",
   "mimetype": "text/x-python",
   "name": "python",
   "nbconvert_exporter": "python",
   "pygments_lexer": "ipython3",
   "version": "3.8.10"
  }
 },
 "nbformat": 4,
 "nbformat_minor": 5
}
