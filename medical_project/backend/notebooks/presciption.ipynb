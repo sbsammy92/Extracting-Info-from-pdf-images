{
 "cells": [
  {
   "cell_type": "code",
   "execution_count": 1,
   "id": "105c9940",
   "metadata": {},
   "outputs": [],
   "source": [
    "from pdf2image import convert_from_path"
   ]
  },
  {
   "cell_type": "code",
   "execution_count": 2,
   "id": "5c2d549a",
   "metadata": {},
   "outputs": [],
   "source": [
    "pages =convert_from_path(r'C:\\medical_project\\backend\\notebooks\\docs\\prescription\\pre_2.pdf',poppler_path=r'C:\\poppler-21.11.0\\Library\\bin')"
   ]
  },
  {
   "cell_type": "code",
   "execution_count": 3,
   "id": "bfde23ef",
   "metadata": {},
   "outputs": [
    {
     "data": {
      "text/plain": [
       "[<PIL.PpmImagePlugin.PpmImageFile image mode=RGB size=1700x2200 at 0x29FDC6D1880>]"
      ]
     },
     "execution_count": 3,
     "metadata": {},
     "output_type": "execute_result"
    }
   ],
   "source": [
    "pages"
   ]
  },
  {
   "cell_type": "code",
   "execution_count": 4,
   "id": "3db9cf58",
   "metadata": {},
   "outputs": [],
   "source": [
    "pages[0].show()"
   ]
  },
  {
   "cell_type": "code",
   "execution_count": 5,
   "id": "16c896df",
   "metadata": {},
   "outputs": [],
   "source": [
    "import pytesseract"
   ]
  },
  {
   "cell_type": "code",
   "execution_count": 6,
   "id": "0bae5265",
   "metadata": {},
   "outputs": [],
   "source": [
    "pytesseract.pytesseract.tesseract_cmd=r'C:\\Program Files\\Tesseract-OCR\\tesseract.exe'\n",
    "text =pytesseract.image_to_string(pages[0],lang='eng')"
   ]
  },
  {
   "cell_type": "code",
   "execution_count": 7,
   "id": "08095bbb",
   "metadata": {},
   "outputs": [
    {
     "name": "stdout",
     "output_type": "stream",
     "text": [
      "Refill: 3 times\n"
     ]
    }
   ],
   "source": [
    "print(text)"
   ]
  },
  {
   "cell_type": "code",
   "execution_count": 8,
   "id": "493fd1ec",
   "metadata": {},
   "outputs": [],
   "source": [
    "import cv2\n",
    "from PIL import Image\n",
    "import numpy as np"
   ]
  },
  {
   "cell_type": "code",
   "execution_count": 9,
   "id": "b85b7a9f",
   "metadata": {},
   "outputs": [],
   "source": [
    "def preprocess_image(img):\n",
    "    gray = cv2.cvtColor(np.array(img),cv2.COLOR_BGR2GRAY)\n",
    "    resized_image= cv2.resize(gray,None,fx=1.5,fy=1.5, interpolation= cv2.INTER_LINEAR)\n",
    "    processed_image = cv2.adaptiveThreshold(\n",
    "            resized_image,255,\n",
    "    cv2.ADAPTIVE_THRESH_GAUSSIAN_C,\n",
    "    cv2.THRESH_BINARY,\n",
    "    61,\n",
    "    11\n",
    "    )\n",
    "    return processed_image"
   ]
  },
  {
   "cell_type": "code",
   "execution_count": 10,
   "id": "f63a3aa7",
   "metadata": {},
   "outputs": [],
   "source": [
    "img = preprocess_image(pages[0])\n",
    "Image.fromarray(img).show()"
   ]
  },
  {
   "cell_type": "code",
   "execution_count": 11,
   "id": "30627730",
   "metadata": {},
   "outputs": [
    {
     "name": "stdout",
     "output_type": "stream",
     "text": [
      "Dr John >mith, M.D\n",
      "\n",
      "2 Non-Important street,\n",
      "New York, Phone (900)-323- ~2222\n",
      "\n",
      "Name:  Virat Kohli Date: 2/05/2022\n",
      "\n",
      " \n",
      "   \n",
      "\n",
      "Address: 2 cricket blvd, New Delhi\n",
      "\n",
      "| Omeprazole 40 mg\n",
      "\n",
      "Directions: Use two tablets daily for three months\n",
      "\n",
      "Refill: 3 times\n"
     ]
    }
   ],
   "source": [
    "pytesseract.pytesseract.tesseract_cmd=r'C:\\Program Files\\Tesseract-OCR\\tesseract.exe'\n",
    "text =pytesseract.image_to_string(img,lang='eng')\n",
    "print(text)"
   ]
  },
  {
   "cell_type": "code",
   "execution_count": 12,
   "id": "ac79e8ec",
   "metadata": {},
   "outputs": [],
   "source": [
    "import re"
   ]
  },
  {
   "cell_type": "code",
   "execution_count": 16,
   "id": "759cc0fa",
   "metadata": {},
   "outputs": [
    {
     "data": {
      "text/plain": [
       "'Virat Kohli'"
      ]
     },
     "execution_count": 16,
     "metadata": {},
     "output_type": "execute_result"
    }
   ],
   "source": [
    "pattern ='Name:(.*)Date'\n",
    "match = re.findall(pattern,text)\n",
    "match[0].strip()"
   ]
  },
  {
   "cell_type": "code",
   "execution_count": 17,
   "id": "fc38b3d1",
   "metadata": {},
   "outputs": [
    {
     "data": {
      "text/plain": [
       "'2 cricket blvd, New Delhi'"
      ]
     },
     "execution_count": 17,
     "metadata": {},
     "output_type": "execute_result"
    }
   ],
   "source": [
    "pattern ='Address:(.*)\\n'\n",
    "match = re.findall(pattern,text)\n",
    "match[0].strip()"
   ]
  },
  {
   "cell_type": "code",
   "execution_count": 22,
   "id": "8ef72a5b",
   "metadata": {},
   "outputs": [
    {
     "data": {
      "text/plain": [
       "'| Omeprazole 40 mg'"
      ]
     },
     "execution_count": 22,
     "metadata": {},
     "output_type": "execute_result"
    }
   ],
   "source": [
    "pattern ='Address:[^\\n]*(.*)Directions'\n",
    "match = re.findall(pattern,text,flags = re.DOTALL)\n",
    "match[0].strip()"
   ]
  },
  {
   "cell_type": "code",
   "execution_count": 28,
   "id": "06f55c9e",
   "metadata": {},
   "outputs": [
    {
     "data": {
      "text/plain": [
       "'Use two tablets daily for three months'"
      ]
     },
     "execution_count": 28,
     "metadata": {},
     "output_type": "execute_result"
    }
   ],
   "source": [
    "pattern ='Directions:(.*)Refill'\n",
    "match = re.findall(pattern,text,flags=re.DOTALL)\n",
    "match[0].strip()"
   ]
  },
  {
   "cell_type": "code",
   "execution_count": 34,
   "id": "23a5bb9b",
   "metadata": {},
   "outputs": [
    {
     "data": {
      "text/plain": [
       "'3'"
      ]
     },
     "execution_count": 34,
     "metadata": {},
     "output_type": "execute_result"
    }
   ],
   "source": [
    "pattern ='Refill:(.*)times'\n",
    "match = re.findall(pattern,text)\n",
    "match[0].strip()"
   ]
  },
  {
   "cell_type": "code",
   "execution_count": null,
   "id": "f2f6ae17",
   "metadata": {},
   "outputs": [],
   "source": []
  }
 ],
 "metadata": {
  "kernelspec": {
   "display_name": "Python 3 (ipykernel)",
   "language": "python",
   "name": "python3"
  },
  "language_info": {
   "codemirror_mode": {
    "name": "ipython",
    "version": 3
   },
   "file_extension": ".py",
   "mimetype": "text/x-python",
   "name": "python",
   "nbconvert_exporter": "python",
   "pygments_lexer": "ipython3",
   "version": "3.8.10"
  }
 },
 "nbformat": 4,
 "nbformat_minor": 5
}
